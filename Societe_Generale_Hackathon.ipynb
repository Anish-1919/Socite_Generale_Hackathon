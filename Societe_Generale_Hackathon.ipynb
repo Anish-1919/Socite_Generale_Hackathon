{
  "cells": [
    {
      "cell_type": "markdown",
      "metadata": {
        "id": "1bfF2iLFN72l"
      },
      "source": [
        "## Topic: Matching of Job Openings with Skill Database usuing Machine Learning\n"
      ]
    },
    {
      "cell_type": "code",
      "execution_count": 214,
      "metadata": {
        "colab": {
          "base_uri": "https://localhost:8080/"
        },
        "id": "YPilaLUOfoYx",
        "outputId": "867806bd-a187-456c-bc18-1c89828c01c8"
      },
      "outputs": [
        {
          "name": "stdout",
          "output_type": "stream",
          "text": [
            "Requirement already satisfied: nltk in c:\\users\\anish kumar k\\appdata\\local\\programs\\python\\python311\\lib\\site-packages (3.8.1)\n",
            "Requirement already satisfied: click in c:\\users\\anish kumar k\\appdata\\local\\programs\\python\\python311\\lib\\site-packages (from nltk) (8.1.3)\n",
            "Requirement already satisfied: joblib in c:\\users\\anish kumar k\\appdata\\local\\programs\\python\\python311\\lib\\site-packages (from nltk) (1.2.0)\n",
            "Requirement already satisfied: regex>=2021.8.3 in c:\\users\\anish kumar k\\appdata\\local\\programs\\python\\python311\\lib\\site-packages (from nltk) (2022.10.31)\n",
            "Requirement already satisfied: tqdm in c:\\users\\anish kumar k\\appdata\\local\\programs\\python\\python311\\lib\\site-packages (from nltk) (4.64.1)\n",
            "Requirement already satisfied: colorama in c:\\users\\anish kumar k\\appdata\\local\\programs\\python\\python311\\lib\\site-packages (from click->nltk) (0.4.6)\n",
            "Note: you may need to restart the kernel to use updated packages.\n"
          ]
        }
      ],
      "source": [
        "pip install nltk"
      ]
    },
    {
      "cell_type": "code",
      "execution_count": 215,
      "metadata": {},
      "outputs": [
        {
          "name": "stdout",
          "output_type": "stream",
          "text": [
            "Requirement already satisfied: scikit-learn in c:\\users\\anish kumar k\\appdata\\local\\programs\\python\\python311\\lib\\site-packages (1.3.0)\n",
            "Requirement already satisfied: numpy>=1.17.3 in c:\\users\\anish kumar k\\appdata\\local\\programs\\python\\python311\\lib\\site-packages (from scikit-learn) (1.24.2)\n",
            "Requirement already satisfied: scipy>=1.5.0 in c:\\users\\anish kumar k\\appdata\\local\\programs\\python\\python311\\lib\\site-packages (from scikit-learn) (1.11.2)\n",
            "Requirement already satisfied: joblib>=1.1.1 in c:\\users\\anish kumar k\\appdata\\local\\programs\\python\\python311\\lib\\site-packages (from scikit-learn) (1.2.0)\n",
            "Requirement already satisfied: threadpoolctl>=2.0.0 in c:\\users\\anish kumar k\\appdata\\local\\programs\\python\\python311\\lib\\site-packages (from scikit-learn) (3.2.0)\n",
            "Note: you may need to restart the kernel to use updated packages.\n"
          ]
        }
      ],
      "source": [
        "pip install scikit-learn"
      ]
    },
    {
      "cell_type": "code",
      "execution_count": 216,
      "metadata": {},
      "outputs": [
        {
          "name": "stdout",
          "output_type": "stream",
          "text": [
            "Requirement already satisfied: matplotlib in c:\\users\\anish kumar k\\appdata\\local\\programs\\python\\python311\\lib\\site-packages (3.7.2)\n",
            "Requirement already satisfied: contourpy>=1.0.1 in c:\\users\\anish kumar k\\appdata\\local\\programs\\python\\python311\\lib\\site-packages (from matplotlib) (1.1.0)\n",
            "Requirement already satisfied: cycler>=0.10 in c:\\users\\anish kumar k\\appdata\\local\\programs\\python\\python311\\lib\\site-packages (from matplotlib) (0.11.0)\n",
            "Requirement already satisfied: fonttools>=4.22.0 in c:\\users\\anish kumar k\\appdata\\local\\programs\\python\\python311\\lib\\site-packages (from matplotlib) (4.42.1)\n",
            "Requirement already satisfied: kiwisolver>=1.0.1 in c:\\users\\anish kumar k\\appdata\\local\\programs\\python\\python311\\lib\\site-packages (from matplotlib) (1.4.5)\n",
            "Requirement already satisfied: numpy>=1.20 in c:\\users\\anish kumar k\\appdata\\local\\programs\\python\\python311\\lib\\site-packages (from matplotlib) (1.24.2)\n",
            "Requirement already satisfied: packaging>=20.0 in c:\\users\\anish kumar k\\appdata\\roaming\\python\\python311\\site-packages (from matplotlib) (23.0)\n",
            "Requirement already satisfied: pillow>=6.2.0 in c:\\users\\anish kumar k\\appdata\\local\\programs\\python\\python311\\lib\\site-packages (from matplotlib) (9.5.0)\n",
            "Requirement already satisfied: pyparsing<3.1,>=2.3.1 in c:\\users\\anish kumar k\\appdata\\local\\programs\\python\\python311\\lib\\site-packages (from matplotlib) (3.0.9)\n",
            "Requirement already satisfied: python-dateutil>=2.7 in c:\\users\\anish kumar k\\appdata\\roaming\\python\\python311\\site-packages (from matplotlib) (2.8.2)\n",
            "Requirement already satisfied: six>=1.5 in c:\\users\\anish kumar k\\appdata\\roaming\\python\\python311\\site-packages (from python-dateutil>=2.7->matplotlib) (1.16.0)\n",
            "Note: you may need to restart the kernel to use updated packages.\n"
          ]
        }
      ],
      "source": [
        "pip install matplotlib"
      ]
    },
    {
      "cell_type": "code",
      "execution_count": 217,
      "metadata": {
        "id": "8szVx0B-NIc4"
      },
      "outputs": [],
      "source": [
        "import pandas as pd\n",
        "import nltk\n",
        "from nltk.corpus import stopwords\n",
        "from nltk.tokenize import word_tokenize\n",
        "from sklearn.model_selection import train_test_split\n",
        "from sklearn.naive_bayes import BernoulliNB\n",
        "from sklearn.naive_bayes import GaussianNB\n",
        "from sklearn.preprocessing import *\n",
        "from sklearn.metrics import accuracy_score\n",
        "from sklearn.pipeline import Pipeline, FeatureUnion\n",
        "from sklearn.naive_bayes import GaussianNB\n",
        "from sklearn.feature_extraction.text import CountVectorizer, TfidfVectorizer\n",
        "from sklearn.model_selection import LeaveOneOut\n",
        "from sklearn.svm import SVC\n",
        "from sklearn.metrics import accuracy_score\n",
        "from sklearn.metrics import classification_report\n",
        "from sklearn.metrics import confusion_matrix\n",
        "from sklearn.preprocessing import StandardScaler\n",
        "from sklearn.neighbors import KNeighborsClassifier\n",
        "from sklearn.ensemble import RandomForestClassifier\n",
        "from sklearn.metrics import accuracy_score\n",
        "import matplotlib.pyplot as plt\n",
        "import joblib"
      ]
    },
    {
      "cell_type": "code",
      "execution_count": 218,
      "metadata": {
        "colab": {
          "base_uri": "https://localhost:8080/"
        },
        "id": "ZaQsz1WNcF60",
        "outputId": "955e03a2-dbfc-462d-b338-7ce0031dc3d4"
      },
      "outputs": [],
      "source": [
        "# from google.colab import drive\n",
        "# drive.mount('/content/drive')"
      ]
    },
    {
      "cell_type": "code",
      "execution_count": 219,
      "metadata": {
        "id": "pYSpmzVKWIXq"
      },
      "outputs": [],
      "source": [
        "skills=pd.read_csv(\"skill_dataset.csv\")"
      ]
    },
    {
      "cell_type": "code",
      "execution_count": 220,
      "metadata": {
        "colab": {
          "base_uri": "https://localhost:8080/",
          "height": 423
        },
        "id": "U8ZxZvZPdSCy",
        "outputId": "0a54306b-5996-4030-e029-c2df7cb63918"
      },
      "outputs": [
        {
          "data": {
            "text/html": [
              "<div>\n",
              "<style scoped>\n",
              "    .dataframe tbody tr th:only-of-type {\n",
              "        vertical-align: middle;\n",
              "    }\n",
              "\n",
              "    .dataframe tbody tr th {\n",
              "        vertical-align: top;\n",
              "    }\n",
              "\n",
              "    .dataframe thead th {\n",
              "        text-align: right;\n",
              "    }\n",
              "</style>\n",
              "<table border=\"1\" class=\"dataframe\">\n",
              "  <thead>\n",
              "    <tr style=\"text-align: right;\">\n",
              "      <th></th>\n",
              "      <th>Job Title</th>\n",
              "      <th>Required Skills</th>\n",
              "      <th>Responsibilities</th>\n",
              "    </tr>\n",
              "  </thead>\n",
              "  <tbody>\n",
              "    <tr>\n",
              "      <th>0</th>\n",
              "      <td>Software Developer</td>\n",
              "      <td>Proficiency in Java, C++, problem-solving, tea...</td>\n",
              "      <td>- Develop, test, and deploy software applicati...</td>\n",
              "    </tr>\n",
              "    <tr>\n",
              "      <th>1</th>\n",
              "      <td>Graphic Designer</td>\n",
              "      <td>Adobe Creative Suite, typography, visual commu...</td>\n",
              "      <td>- Create visual content for marketing material...</td>\n",
              "    </tr>\n",
              "    <tr>\n",
              "      <th>2</th>\n",
              "      <td>Financial Analyst</td>\n",
              "      <td>Financial modeling, Excel, data analysis, repo...</td>\n",
              "      <td>- Analyze financial data and trends to provide...</td>\n",
              "    </tr>\n",
              "    <tr>\n",
              "      <th>3</th>\n",
              "      <td>Registered Nurse</td>\n",
              "      <td>Nursing degree, patient care, medical knowledg...</td>\n",
              "      <td>- Provide patient care and administer medicati...</td>\n",
              "    </tr>\n",
              "    <tr>\n",
              "      <th>4</th>\n",
              "      <td>Marketing Specialist</td>\n",
              "      <td>Social media marketing, content creation, anal...</td>\n",
              "      <td>- Plan and execute social media campaigns.&lt;br&gt;...</td>\n",
              "    </tr>\n",
              "    <tr>\n",
              "      <th>...</th>\n",
              "      <td>...</td>\n",
              "      <td>...</td>\n",
              "      <td>...</td>\n",
              "    </tr>\n",
              "    <tr>\n",
              "      <th>127</th>\n",
              "      <td>Content Strategist</td>\n",
              "      <td>Content planning, brand messaging</td>\n",
              "      <td>- Develop content strategies to align with bra...</td>\n",
              "    </tr>\n",
              "    <tr>\n",
              "      <th>128</th>\n",
              "      <td>Mechanical Maintenance Technician</td>\n",
              "      <td>Equipment maintenance, repairs</td>\n",
              "      <td>- Maintain and repair mechanical equipment and...</td>\n",
              "    </tr>\n",
              "    <tr>\n",
              "      <th>129</th>\n",
              "      <td>Occupational Health Nurse</td>\n",
              "      <td>Occupational health, health assessments</td>\n",
              "      <td>- Provide occupational health services and wel...</td>\n",
              "    </tr>\n",
              "    <tr>\n",
              "      <th>130</th>\n",
              "      <td>Market Researcher</td>\n",
              "      <td>Market analysis, data collection, consumer ins...</td>\n",
              "      <td>- Conduct market research to gather consumer i...</td>\n",
              "    </tr>\n",
              "    <tr>\n",
              "      <th>131</th>\n",
              "      <td>Operations Analyst</td>\n",
              "      <td>Operations analysis, process optimization</td>\n",
              "      <td>- Analyze business operations to identify oppo...</td>\n",
              "    </tr>\n",
              "  </tbody>\n",
              "</table>\n",
              "<p>132 rows × 3 columns</p>\n",
              "</div>"
            ],
            "text/plain": [
              "                             Job Title  \\\n",
              "0                   Software Developer   \n",
              "1                     Graphic Designer   \n",
              "2                    Financial Analyst   \n",
              "3                     Registered Nurse   \n",
              "4                 Marketing Specialist   \n",
              "..                                 ...   \n",
              "127                 Content Strategist   \n",
              "128  Mechanical Maintenance Technician   \n",
              "129          Occupational Health Nurse   \n",
              "130                  Market Researcher   \n",
              "131                 Operations Analyst   \n",
              "\n",
              "                                       Required Skills  \\\n",
              "0    Proficiency in Java, C++, problem-solving, tea...   \n",
              "1    Adobe Creative Suite, typography, visual commu...   \n",
              "2    Financial modeling, Excel, data analysis, repo...   \n",
              "3    Nursing degree, patient care, medical knowledg...   \n",
              "4    Social media marketing, content creation, anal...   \n",
              "..                                                 ...   \n",
              "127                  Content planning, brand messaging   \n",
              "128                     Equipment maintenance, repairs   \n",
              "129            Occupational health, health assessments   \n",
              "130  Market analysis, data collection, consumer ins...   \n",
              "131          Operations analysis, process optimization   \n",
              "\n",
              "                                      Responsibilities  \n",
              "0    - Develop, test, and deploy software applicati...  \n",
              "1    - Create visual content for marketing material...  \n",
              "2    - Analyze financial data and trends to provide...  \n",
              "3    - Provide patient care and administer medicati...  \n",
              "4    - Plan and execute social media campaigns.<br>...  \n",
              "..                                                 ...  \n",
              "127  - Develop content strategies to align with bra...  \n",
              "128  - Maintain and repair mechanical equipment and...  \n",
              "129  - Provide occupational health services and wel...  \n",
              "130  - Conduct market research to gather consumer i...  \n",
              "131  - Analyze business operations to identify oppo...  \n",
              "\n",
              "[132 rows x 3 columns]"
            ]
          },
          "metadata": {},
          "output_type": "display_data"
        }
      ],
      "source": [
        "display(skills)"
      ]
    },
    {
      "cell_type": "code",
      "execution_count": 221,
      "metadata": {
        "id": "trp0PeFMhnhe"
      },
      "outputs": [],
      "source": [
        "skills.rename(columns={'Required Skills\t': 'Required Skills'}, inplace=True)"
      ]
    },
    {
      "cell_type": "markdown",
      "metadata": {
        "id": "kofW2MT-dzL_"
      },
      "source": [
        "## Data Preprocessing"
      ]
    },
    {
      "cell_type": "markdown",
      "metadata": {
        "id": "-PNd90hod7AE"
      },
      "source": [
        "### Remove HTML tags"
      ]
    },
    {
      "cell_type": "code",
      "execution_count": 222,
      "metadata": {
        "id": "WqdJwZJkdVp8"
      },
      "outputs": [],
      "source": [
        "def remove_html_tags(text):\n",
        "    import re\n",
        "    clean = re.compile('<.*?>')\n",
        "    return re.sub(clean, '', text)"
      ]
    },
    {
      "cell_type": "code",
      "execution_count": 223,
      "metadata": {
        "id": "EN7SpGD0eEz7"
      },
      "outputs": [],
      "source": [
        "skills['Responsibilities'] = skills['Responsibilities'].apply(remove_html_tags)"
      ]
    },
    {
      "cell_type": "markdown",
      "metadata": {
        "id": "7iD5WZO3eTQ_"
      },
      "source": [
        "### Removing '-' from the begining"
      ]
    },
    {
      "cell_type": "code",
      "execution_count": 224,
      "metadata": {
        "id": "L0ITyQRCeQTc"
      },
      "outputs": [],
      "source": [
        "omit = '-'\n",
        "skills['Responsibilities'] = skills['Responsibilities'].str.replace(omit, '')"
      ]
    },
    {
      "cell_type": "markdown",
      "metadata": {
        "id": "4czRdiMkgBH4"
      },
      "source": [
        "### Stopword Removal"
      ]
    },
    {
      "cell_type": "code",
      "execution_count": 225,
      "metadata": {
        "colab": {
          "base_uri": "https://localhost:8080/"
        },
        "id": "DDdfD8-hgGy-",
        "outputId": "5150e297-c80c-437c-cd0e-4737413341e2"
      },
      "outputs": [
        {
          "name": "stderr",
          "output_type": "stream",
          "text": [
            "[nltk_data] Downloading package stopwords to C:\\Users\\Anish Kumar\n",
            "[nltk_data]     K\\AppData\\Roaming\\nltk_data...\n",
            "[nltk_data]   Package stopwords is already up-to-date!\n",
            "[nltk_data] Downloading package punkt to C:\\Users\\Anish Kumar\n",
            "[nltk_data]     K\\AppData\\Roaming\\nltk_data...\n",
            "[nltk_data]   Package punkt is already up-to-date!\n",
            "[nltk_data] Downloading package wordnet to C:\\Users\\Anish Kumar\n",
            "[nltk_data]     K\\AppData\\Roaming\\nltk_data...\n",
            "[nltk_data]   Package wordnet is already up-to-date!\n"
          ]
        },
        {
          "data": {
            "text/plain": [
              "True"
            ]
          },
          "execution_count": 225,
          "metadata": {},
          "output_type": "execute_result"
        }
      ],
      "source": [
        "nltk.download('stopwords')\n",
        "nltk.download('punkt')\n",
        "nltk.download('wordnet')"
      ]
    },
    {
      "cell_type": "code",
      "execution_count": 226,
      "metadata": {
        "id": "wqYnpD9ngKF_"
      },
      "outputs": [],
      "source": [
        "stop_words = set(stopwords.words('english')) #collecting a list of english stopwords"
      ]
    },
    {
      "cell_type": "code",
      "execution_count": 227,
      "metadata": {
        "id": "27LBJF1ngWT7"
      },
      "outputs": [],
      "source": [
        "def remove_stopwords(text):\n",
        "    tokens = word_tokenize(text)\n",
        "    filtered_tokens = [word for word in tokens if word.lower() not in stop_words]\n",
        "    return ' '.join(filtered_tokens)"
      ]
    },
    {
      "cell_type": "code",
      "execution_count": 228,
      "metadata": {
        "id": "w9N_HSRzLJFF"
      },
      "outputs": [],
      "source": [
        "def lemmatize(x):\n",
        "  return [lemmatizer.lemmatize(word) for word in x]"
      ]
    },
    {
      "cell_type": "code",
      "execution_count": 229,
      "metadata": {
        "id": "x0e33wx8gfB_"
      },
      "outputs": [],
      "source": [
        "skills['Required Skills'] = skills['Required Skills'].apply(remove_stopwords)"
      ]
    },
    {
      "cell_type": "code",
      "execution_count": 230,
      "metadata": {
        "colab": {
          "base_uri": "https://localhost:8080/",
          "height": 423
        },
        "id": "Z9Er_LsdgmFt",
        "outputId": "1799ab94-0a56-4142-ce32-d7496eaca5e1"
      },
      "outputs": [
        {
          "data": {
            "text/html": [
              "<div>\n",
              "<style scoped>\n",
              "    .dataframe tbody tr th:only-of-type {\n",
              "        vertical-align: middle;\n",
              "    }\n",
              "\n",
              "    .dataframe tbody tr th {\n",
              "        vertical-align: top;\n",
              "    }\n",
              "\n",
              "    .dataframe thead th {\n",
              "        text-align: right;\n",
              "    }\n",
              "</style>\n",
              "<table border=\"1\" class=\"dataframe\">\n",
              "  <thead>\n",
              "    <tr style=\"text-align: right;\">\n",
              "      <th></th>\n",
              "      <th>Job Title</th>\n",
              "      <th>Required Skills</th>\n",
              "      <th>Responsibilities</th>\n",
              "    </tr>\n",
              "  </thead>\n",
              "  <tbody>\n",
              "    <tr>\n",
              "      <th>0</th>\n",
              "      <td>Software Developer</td>\n",
              "      <td>Proficiency Java , C++ , problem-solving , tea...</td>\n",
              "      <td>Develop, test, and deploy software applicatio...</td>\n",
              "    </tr>\n",
              "    <tr>\n",
              "      <th>1</th>\n",
              "      <td>Graphic Designer</td>\n",
              "      <td>Adobe Creative Suite , typography , visual com...</td>\n",
              "      <td>Create visual content for marketing materials...</td>\n",
              "    </tr>\n",
              "    <tr>\n",
              "      <th>2</th>\n",
              "      <td>Financial Analyst</td>\n",
              "      <td>Financial modeling , Excel , data analysis , r...</td>\n",
              "      <td>Analyze financial data and trends to provide ...</td>\n",
              "    </tr>\n",
              "    <tr>\n",
              "      <th>3</th>\n",
              "      <td>Registered Nurse</td>\n",
              "      <td>Nursing degree , patient care , medical knowle...</td>\n",
              "      <td>Provide patient care and administer medicatio...</td>\n",
              "    </tr>\n",
              "    <tr>\n",
              "      <th>4</th>\n",
              "      <td>Marketing Specialist</td>\n",
              "      <td>Social media marketing , content creation , an...</td>\n",
              "      <td>Plan and execute social media campaigns. Crea...</td>\n",
              "    </tr>\n",
              "    <tr>\n",
              "      <th>...</th>\n",
              "      <td>...</td>\n",
              "      <td>...</td>\n",
              "      <td>...</td>\n",
              "    </tr>\n",
              "    <tr>\n",
              "      <th>127</th>\n",
              "      <td>Content Strategist</td>\n",
              "      <td>Content planning , brand messaging</td>\n",
              "      <td>Develop content strategies to align with bran...</td>\n",
              "    </tr>\n",
              "    <tr>\n",
              "      <th>128</th>\n",
              "      <td>Mechanical Maintenance Technician</td>\n",
              "      <td>Equipment maintenance , repairs</td>\n",
              "      <td>Maintain and repair mechanical equipment and ...</td>\n",
              "    </tr>\n",
              "    <tr>\n",
              "      <th>129</th>\n",
              "      <td>Occupational Health Nurse</td>\n",
              "      <td>Occupational health , health assessments</td>\n",
              "      <td>Provide occupational health services and well...</td>\n",
              "    </tr>\n",
              "    <tr>\n",
              "      <th>130</th>\n",
              "      <td>Market Researcher</td>\n",
              "      <td>Market analysis , data collection , consumer i...</td>\n",
              "      <td>Conduct market research to gather consumer in...</td>\n",
              "    </tr>\n",
              "    <tr>\n",
              "      <th>131</th>\n",
              "      <td>Operations Analyst</td>\n",
              "      <td>Operations analysis , process optimization</td>\n",
              "      <td>Analyze business operations to identify oppor...</td>\n",
              "    </tr>\n",
              "  </tbody>\n",
              "</table>\n",
              "<p>132 rows × 3 columns</p>\n",
              "</div>"
            ],
            "text/plain": [
              "                             Job Title  \\\n",
              "0                   Software Developer   \n",
              "1                     Graphic Designer   \n",
              "2                    Financial Analyst   \n",
              "3                     Registered Nurse   \n",
              "4                 Marketing Specialist   \n",
              "..                                 ...   \n",
              "127                 Content Strategist   \n",
              "128  Mechanical Maintenance Technician   \n",
              "129          Occupational Health Nurse   \n",
              "130                  Market Researcher   \n",
              "131                 Operations Analyst   \n",
              "\n",
              "                                       Required Skills  \\\n",
              "0    Proficiency Java , C++ , problem-solving , tea...   \n",
              "1    Adobe Creative Suite , typography , visual com...   \n",
              "2    Financial modeling , Excel , data analysis , r...   \n",
              "3    Nursing degree , patient care , medical knowle...   \n",
              "4    Social media marketing , content creation , an...   \n",
              "..                                                 ...   \n",
              "127                 Content planning , brand messaging   \n",
              "128                    Equipment maintenance , repairs   \n",
              "129           Occupational health , health assessments   \n",
              "130  Market analysis , data collection , consumer i...   \n",
              "131         Operations analysis , process optimization   \n",
              "\n",
              "                                      Responsibilities  \n",
              "0     Develop, test, and deploy software applicatio...  \n",
              "1     Create visual content for marketing materials...  \n",
              "2     Analyze financial data and trends to provide ...  \n",
              "3     Provide patient care and administer medicatio...  \n",
              "4     Plan and execute social media campaigns. Crea...  \n",
              "..                                                 ...  \n",
              "127   Develop content strategies to align with bran...  \n",
              "128   Maintain and repair mechanical equipment and ...  \n",
              "129   Provide occupational health services and well...  \n",
              "130   Conduct market research to gather consumer in...  \n",
              "131   Analyze business operations to identify oppor...  \n",
              "\n",
              "[132 rows x 3 columns]"
            ]
          },
          "metadata": {},
          "output_type": "display_data"
        }
      ],
      "source": [
        "display(skills)"
      ]
    },
    {
      "cell_type": "code",
      "execution_count": 231,
      "metadata": {
        "colab": {
          "base_uri": "https://localhost:8080/",
          "height": 597
        },
        "id": "cd6bSEJ1h3zC",
        "outputId": "2cc1e700-57c8-4a3b-b445-ce3f4c082d55"
      },
      "outputs": [
        {
          "data": {
            "text/html": [
              "<div>\n",
              "<style scoped>\n",
              "    .dataframe tbody tr th:only-of-type {\n",
              "        vertical-align: middle;\n",
              "    }\n",
              "\n",
              "    .dataframe tbody tr th {\n",
              "        vertical-align: top;\n",
              "    }\n",
              "\n",
              "    .dataframe thead th {\n",
              "        text-align: right;\n",
              "    }\n",
              "</style>\n",
              "<table border=\"1\" class=\"dataframe\">\n",
              "  <thead>\n",
              "    <tr style=\"text-align: right;\">\n",
              "      <th></th>\n",
              "      <th>Job Title</th>\n",
              "      <th>Required Skills</th>\n",
              "      <th>Responsibilities</th>\n",
              "      <th>skill_list</th>\n",
              "    </tr>\n",
              "  </thead>\n",
              "  <tbody>\n",
              "    <tr>\n",
              "      <th>0</th>\n",
              "      <td>Software Developer</td>\n",
              "      <td>Proficiency Java , C++ , problem-solving , tea...</td>\n",
              "      <td>Develop, test, and deploy software applicatio...</td>\n",
              "      <td>[Proficiency Java, C++, problem-solving, teamw...</td>\n",
              "    </tr>\n",
              "    <tr>\n",
              "      <th>1</th>\n",
              "      <td>Graphic Designer</td>\n",
              "      <td>Adobe Creative Suite , typography , visual com...</td>\n",
              "      <td>Create visual content for marketing materials...</td>\n",
              "      <td>[Adobe Creative Suite, typography, visual comm...</td>\n",
              "    </tr>\n",
              "    <tr>\n",
              "      <th>2</th>\n",
              "      <td>Financial Analyst</td>\n",
              "      <td>Financial modeling , Excel , data analysis , r...</td>\n",
              "      <td>Analyze financial data and trends to provide ...</td>\n",
              "      <td>[Financial modeling, Excel, data analysis, rep...</td>\n",
              "    </tr>\n",
              "    <tr>\n",
              "      <th>3</th>\n",
              "      <td>Registered Nurse</td>\n",
              "      <td>Nursing degree , patient care , medical knowle...</td>\n",
              "      <td>Provide patient care and administer medicatio...</td>\n",
              "      <td>[Nursing degree, patient care, medical knowled...</td>\n",
              "    </tr>\n",
              "    <tr>\n",
              "      <th>4</th>\n",
              "      <td>Marketing Specialist</td>\n",
              "      <td>Social media marketing , content creation , an...</td>\n",
              "      <td>Plan and execute social media campaigns. Crea...</td>\n",
              "      <td>[Social media marketing, content creation, ana...</td>\n",
              "    </tr>\n",
              "    <tr>\n",
              "      <th>...</th>\n",
              "      <td>...</td>\n",
              "      <td>...</td>\n",
              "      <td>...</td>\n",
              "      <td>...</td>\n",
              "    </tr>\n",
              "    <tr>\n",
              "      <th>127</th>\n",
              "      <td>Content Strategist</td>\n",
              "      <td>Content planning , brand messaging</td>\n",
              "      <td>Develop content strategies to align with bran...</td>\n",
              "      <td>[Content planning, brand messaging]</td>\n",
              "    </tr>\n",
              "    <tr>\n",
              "      <th>128</th>\n",
              "      <td>Mechanical Maintenance Technician</td>\n",
              "      <td>Equipment maintenance , repairs</td>\n",
              "      <td>Maintain and repair mechanical equipment and ...</td>\n",
              "      <td>[Equipment maintenance, repairs]</td>\n",
              "    </tr>\n",
              "    <tr>\n",
              "      <th>129</th>\n",
              "      <td>Occupational Health Nurse</td>\n",
              "      <td>Occupational health , health assessments</td>\n",
              "      <td>Provide occupational health services and well...</td>\n",
              "      <td>[Occupational health, health assessments]</td>\n",
              "    </tr>\n",
              "    <tr>\n",
              "      <th>130</th>\n",
              "      <td>Market Researcher</td>\n",
              "      <td>Market analysis , data collection , consumer i...</td>\n",
              "      <td>Conduct market research to gather consumer in...</td>\n",
              "      <td>[Market analysis, data collection, consumer in...</td>\n",
              "    </tr>\n",
              "    <tr>\n",
              "      <th>131</th>\n",
              "      <td>Operations Analyst</td>\n",
              "      <td>Operations analysis , process optimization</td>\n",
              "      <td>Analyze business operations to identify oppor...</td>\n",
              "      <td>[Operations analysis, process optimization]</td>\n",
              "    </tr>\n",
              "  </tbody>\n",
              "</table>\n",
              "<p>132 rows × 4 columns</p>\n",
              "</div>"
            ],
            "text/plain": [
              "                             Job Title  \\\n",
              "0                   Software Developer   \n",
              "1                     Graphic Designer   \n",
              "2                    Financial Analyst   \n",
              "3                     Registered Nurse   \n",
              "4                 Marketing Specialist   \n",
              "..                                 ...   \n",
              "127                 Content Strategist   \n",
              "128  Mechanical Maintenance Technician   \n",
              "129          Occupational Health Nurse   \n",
              "130                  Market Researcher   \n",
              "131                 Operations Analyst   \n",
              "\n",
              "                                       Required Skills  \\\n",
              "0    Proficiency Java , C++ , problem-solving , tea...   \n",
              "1    Adobe Creative Suite , typography , visual com...   \n",
              "2    Financial modeling , Excel , data analysis , r...   \n",
              "3    Nursing degree , patient care , medical knowle...   \n",
              "4    Social media marketing , content creation , an...   \n",
              "..                                                 ...   \n",
              "127                 Content planning , brand messaging   \n",
              "128                    Equipment maintenance , repairs   \n",
              "129           Occupational health , health assessments   \n",
              "130  Market analysis , data collection , consumer i...   \n",
              "131         Operations analysis , process optimization   \n",
              "\n",
              "                                      Responsibilities  \\\n",
              "0     Develop, test, and deploy software applicatio...   \n",
              "1     Create visual content for marketing materials...   \n",
              "2     Analyze financial data and trends to provide ...   \n",
              "3     Provide patient care and administer medicatio...   \n",
              "4     Plan and execute social media campaigns. Crea...   \n",
              "..                                                 ...   \n",
              "127   Develop content strategies to align with bran...   \n",
              "128   Maintain and repair mechanical equipment and ...   \n",
              "129   Provide occupational health services and well...   \n",
              "130   Conduct market research to gather consumer in...   \n",
              "131   Analyze business operations to identify oppor...   \n",
              "\n",
              "                                            skill_list  \n",
              "0    [Proficiency Java, C++, problem-solving, teamw...  \n",
              "1    [Adobe Creative Suite, typography, visual comm...  \n",
              "2    [Financial modeling, Excel, data analysis, rep...  \n",
              "3    [Nursing degree, patient care, medical knowled...  \n",
              "4    [Social media marketing, content creation, ana...  \n",
              "..                                                 ...  \n",
              "127                [Content planning, brand messaging]  \n",
              "128                   [Equipment maintenance, repairs]  \n",
              "129          [Occupational health, health assessments]  \n",
              "130  [Market analysis, data collection, consumer in...  \n",
              "131        [Operations analysis, process optimization]  \n",
              "\n",
              "[132 rows x 4 columns]"
            ]
          },
          "metadata": {},
          "output_type": "display_data"
        }
      ],
      "source": [
        "skills['skill_list']=skills['Required Skills'].apply(lambda x:[skill.strip() for skill in x.split(',')])\n",
        "display(skills)"
      ]
    },
    {
      "cell_type": "code",
      "execution_count": 232,
      "metadata": {
        "colab": {
          "base_uri": "https://localhost:8080/",
          "height": 1000
        },
        "id": "LAVlD3XIkazL",
        "outputId": "82c8708a-e7f8-45f9-c9a3-6d8c3dcd9f4e"
      },
      "outputs": [
        {
          "data": {
            "text/plain": [
              "[['Proficiency Java', 'C++', 'problem-solving', 'teamwork'],\n",
              " ['Adobe Creative Suite', 'typography', 'visual communication'],\n",
              " ['Financial modeling', 'Excel', 'data analysis', 'reporting'],\n",
              " ['Nursing degree', 'patient care', 'medical knowledge', 'empathy'],\n",
              " ['Social media marketing', 'content creation', 'analytics'],\n",
              " ['Python', 'data preprocessing', 'machine learning algorithms'],\n",
              " ['User-centered design', 'wireframing', 'prototyping'],\n",
              " ['Communication', 'CRM', 'negotiation', 'sales techniques'],\n",
              " ['HTML', 'CSS', 'JavaScript', 'responsive design'],\n",
              " ['Recruitment', 'employee relations', 'HR policies'],\n",
              " ['Project planning', 'communication', 'leadership'],\n",
              " ['Java', 'software development', 'debugging'],\n",
              " ['Copywriting', 'SEO', 'research', 'storytelling'],\n",
              " ['Network configuration', 'troubleshooting', 'security'],\n",
              " ['Accounting principles', 'financial reporting', 'Excel'],\n",
              " ['Communication', 'problem-solving', 'empathy'],\n",
              " ['Architectural design', 'AutoCAD', 'project management'],\n",
              " ['SQL', 'data analysis', 'data visualization'],\n",
              " ['Culinary skills', 'menu planning', 'food safety'],\n",
              " ['Digital marketing', 'campaign management', 'SEO'],\n",
              " ['Subject expertise', 'classroom management', 'lesson planning'],\n",
              " ['Electrical design', 'circuit analysis', 'PCB design'],\n",
              " ['Advanced nursing degree', 'patient care', 'diagnostics'],\n",
              " ['Social media strategy', 'content creation', 'analytics'],\n",
              " ['CAD software', 'mechanical design', 'thermodynamics'],\n",
              " ['Legal research', 'document preparation', 'case management'],\n",
              " ['Financial planning', 'investment strategies', 'communication'],\n",
              " ['Pharmacology', 'medication dispensing', 'patient counseling'],\n",
              " ['Quality assurance', 'testing methodologies', 'bug tracking'],\n",
              " ['Event coordination', 'vendor management', 'budgeting'],\n",
              " ['Process optimization', 'team leadership', 'supply chain'],\n",
              " ['Dental procedures', 'oral health education', 'patient care'],\n",
              " ['Troubleshooting', 'hardware/software assistance', 'networking'],\n",
              " ['Legal expertise', 'contract drafting', 'litigation support'],\n",
              " ['Product development', 'market analysis', 'project management'],\n",
              " ['HR policies', 'employee relations', 'talent acquisition'],\n",
              " ['Aerospace design', 'aerodynamics', 'materials science'],\n",
              " ['Therapy techniques', 'patient assessment', 'rehabilitation'],\n",
              " ['Electrical systems', 'wiring', 'maintenance'],\n",
              " ['Rehabilitation techniques', 'patient assessment'],\n",
              " ['Financial leadership', 'strategic planning', 'risk management'],\n",
              " ['Culinary expertise', 'menu creation', 'kitchen management'],\n",
              " ['Workplace health', 'ergonomic assessment'],\n",
              " ['Civil engineering principles', 'structural design'],\n",
              " ['User-centered design', 'wireframing', 'user testing'],\n",
              " ['Dental procedures', 'patient care', 'sterilization'],\n",
              " ['Logistics', 'inventory management', 'vendor relations'],\n",
              " ['Space planning', 'aesthetics', 'project management'],\n",
              " ['System design', 'software architecture', 'scalability'],\n",
              " ['Financial analysis', 'retirement planning', 'investments'],\n",
              " ['Research methodologies', 'data analysis', 'publication'],\n",
              " ['CAD software', 'mechanical design', 'prototyping'],\n",
              " ['infrastructure', 'team management', 'cybersecurity'],\n",
              " ['Media relations', 'communication', 'event planning'],\n",
              " ['CAD software', 'mechanical design', 'thermodynamics'],\n",
              " ['Legal documentation', 'scheduling', 'client communication'],\n",
              " ['Technology solutions', 'client consultation', 'problem-solving'],\n",
              " ['Medical degree', 'child health', 'patient care'],\n",
              " ['Architectural software', 'design principles'],\n",
              " ['Financial modeling', 'data analysis', 'forecasting'],\n",
              " ['Rehabilitation techniques', 'patient care'],\n",
              " ['Marketing campaigns', 'social media', 'content creation'],\n",
              " ['Aerospace design', 'propulsion systems', 'testing'],\n",
              " ['Employee relations', 'recruitment', 'HR policies'],\n",
              " ['Data analysis', 'requirements gathering', 'documentation'],\n",
              " ['Midwifery knowledge', 'maternal care', 'labor support'],\n",
              " ['Creative direction', 'visual design', 'team leadership'],\n",
              " ['Network maintenance', 'troubleshooting', 'security'],\n",
              " ['Chemical analysis', 'laboratory techniques', 'research'],\n",
              " ['QA processes', 'testing methodologies'],\n",
              " ['Medical assessment', 'patient care', 'collaboration'],\n",
              " ['Web design tools', 'UI/UX principles', 'responsive design'],\n",
              " ['Financial analysis', 'investment strategies', 'reporting'],\n",
              " ['Equipment maintenance', 'technical support'],\n",
              " ['Occupational health', 'health assessments'],\n",
              " ['Market analysis', 'data collection', 'consumer insights'],\n",
              " ['Operations analysis', 'process optimization'],\n",
              " ['Personal training', 'exercise programming', 'nutrition'],\n",
              " ['Therapy techniques', 'patient support'],\n",
              " ['CAD software', 'construction support'],\n",
              " ['HR operations', 'employee onboarding', 'benefits'],\n",
              " ['Cybersecurity', 'threat detection', 'incident response'],\n",
              " ['Technical training', 'curriculum development'],\n",
              " ['Healthcare management', 'operations oversight'],\n",
              " ['Environmental analysis', 'research methodologies'],\n",
              " ['Data pipeline development', 'database management'],\n",
              " ['Legal research', 'case analysis', 'document review'],\n",
              " ['Technical support', 'issue resolution'],\n",
              " ['CAD software', 'architectural drawings'],\n",
              " ['Workplace health programs', 'regulations'],\n",
              " ['Sales strategies', 'client acquisition'],\n",
              " ['Epidemiological research', 'data analysis'],\n",
              " ['Project management', 'stakeholder coordination'],\n",
              " ['Medication dispensing', 'prescription processing'],\n",
              " ['Project management', 'design coordination'],\n",
              " ['Content planning', 'brand messaging'],\n",
              " ['Equipment maintenance', 'repairs'],\n",
              " ['Therapy support', 'patient assistance'],\n",
              " ['Financial oversight', 'reporting', 'compliance'],\n",
              " ['Social support', 'counseling', 'case management'],\n",
              " ['Aerospace systems', 'maintenance'],\n",
              " ['Network security', 'intrusion detection'],\n",
              " ['User research', 'usability testing'],\n",
              " ['Legal consultation', 'advisory services'],\n",
              " ['Food product development', 'quality control'],\n",
              " ['System maintenance', 'troubleshooting'],\n",
              " ['Environmental regulations', 'inspections'],\n",
              " ['Technical documentation', 'user manuals'],\n",
              " ['Event planning', 'logistics', 'vendor management'],\n",
              " ['User research', 'data collection'],\n",
              " ['Sustainability strategies', 'environmental impact'],\n",
              " ['Therapy support', 'patient assistance'],\n",
              " ['Financial modeling', 'data analysis', 'forecasting'],\n",
              " ['Equipment maintenance', 'technical support'],\n",
              " ['Midwifery knowledge', 'maternal care', 'labor support'],\n",
              " ['Creative direction', 'visual design', 'team leadership'],\n",
              " ['Network maintenance', 'troubleshooting', 'security'],\n",
              " ['Chemical analysis', 'laboratory techniques', 'research'],\n",
              " ['Technical training', 'curriculum development'],\n",
              " ['Healthcare management', 'operations oversight'],\n",
              " ['CAD software', 'architectural drawings'],\n",
              " ['Workplace health programs', 'regulations'],\n",
              " ['Sales strategies', 'client acquisition'],\n",
              " ['Epidemiological research', 'data analysis'],\n",
              " ['Project management', 'stakeholder coordination'],\n",
              " ['Medication dispensing', 'prescription processing'],\n",
              " ['Project management', 'design coordination'],\n",
              " ['Content planning', 'brand messaging'],\n",
              " ['Equipment maintenance', 'repairs'],\n",
              " ['Occupational health', 'health assessments'],\n",
              " ['Market analysis', 'data collection', 'consumer insights'],\n",
              " ['Operations analysis', 'process optimization']]"
            ]
          },
          "metadata": {},
          "output_type": "display_data"
        }
      ],
      "source": [
        "slist = skills['skill_list'].tolist()\n",
        "display(slist)"
      ]
    },
    {
      "cell_type": "code",
      "execution_count": 233,
      "metadata": {
        "colab": {
          "base_uri": "https://localhost:8080/"
        },
        "id": "iiMw32DFlehI",
        "outputId": "bf6d679b-6526-4c78-a607-d6ff33fc6235"
      },
      "outputs": [
        {
          "name": "stdout",
          "output_type": "stream",
          "text": [
            "['Proficiency Java', 'C++', 'problem-solving', 'teamwork', 'Adobe Creative Suite', 'typography', 'visual communication', 'Financial modeling', 'Excel', 'data analysis', 'reporting', 'Nursing degree', 'patient care', 'medical knowledge', 'empathy', 'Social media marketing', 'content creation', 'analytics', 'Python', 'data preprocessing', 'machine learning algorithms', 'User-centered design', 'wireframing', 'prototyping', 'Communication', 'CRM', 'negotiation', 'sales techniques', 'HTML', 'CSS', 'JavaScript', 'responsive design', 'Recruitment', 'employee relations', 'HR policies', 'Project planning', 'communication', 'leadership', 'Java', 'software development', 'debugging', 'Copywriting', 'SEO', 'research', 'storytelling', 'Network configuration', 'troubleshooting', 'security', 'Accounting principles', 'financial reporting', 'Excel', 'Communication', 'problem-solving', 'empathy', 'Architectural design', 'AutoCAD', 'project management', 'SQL', 'data analysis', 'data visualization', 'Culinary skills', 'menu planning', 'food safety', 'Digital marketing', 'campaign management', 'SEO', 'Subject expertise', 'classroom management', 'lesson planning', 'Electrical design', 'circuit analysis', 'PCB design', 'Advanced nursing degree', 'patient care', 'diagnostics', 'Social media strategy', 'content creation', 'analytics', 'CAD software', 'mechanical design', 'thermodynamics', 'Legal research', 'document preparation', 'case management', 'Financial planning', 'investment strategies', 'communication', 'Pharmacology', 'medication dispensing', 'patient counseling', 'Quality assurance', 'testing methodologies', 'bug tracking', 'Event coordination', 'vendor management', 'budgeting', 'Process optimization', 'team leadership', 'supply chain', 'Dental procedures', 'oral health education', 'patient care', 'Troubleshooting', 'hardware/software assistance', 'networking', 'Legal expertise', 'contract drafting', 'litigation support', 'Product development', 'market analysis', 'project management', 'HR policies', 'employee relations', 'talent acquisition', 'Aerospace design', 'aerodynamics', 'materials science', 'Therapy techniques', 'patient assessment', 'rehabilitation', 'Electrical systems', 'wiring', 'maintenance', 'Rehabilitation techniques', 'patient assessment', 'Financial leadership', 'strategic planning', 'risk management', 'Culinary expertise', 'menu creation', 'kitchen management', 'Workplace health', 'ergonomic assessment', 'Civil engineering principles', 'structural design', 'User-centered design', 'wireframing', 'user testing', 'Dental procedures', 'patient care', 'sterilization', 'Logistics', 'inventory management', 'vendor relations', 'Space planning', 'aesthetics', 'project management', 'System design', 'software architecture', 'scalability', 'Financial analysis', 'retirement planning', 'investments', 'Research methodologies', 'data analysis', 'publication', 'CAD software', 'mechanical design', 'prototyping', 'infrastructure', 'team management', 'cybersecurity', 'Media relations', 'communication', 'event planning', 'CAD software', 'mechanical design', 'thermodynamics', 'Legal documentation', 'scheduling', 'client communication', 'Technology solutions', 'client consultation', 'problem-solving', 'Medical degree', 'child health', 'patient care', 'Architectural software', 'design principles', 'Financial modeling', 'data analysis', 'forecasting', 'Rehabilitation techniques', 'patient care', 'Marketing campaigns', 'social media', 'content creation', 'Aerospace design', 'propulsion systems', 'testing', 'Employee relations', 'recruitment', 'HR policies', 'Data analysis', 'requirements gathering', 'documentation', 'Midwifery knowledge', 'maternal care', 'labor support', 'Creative direction', 'visual design', 'team leadership', 'Network maintenance', 'troubleshooting', 'security', 'Chemical analysis', 'laboratory techniques', 'research', 'QA processes', 'testing methodologies', 'Medical assessment', 'patient care', 'collaboration', 'Web design tools', 'UI/UX principles', 'responsive design', 'Financial analysis', 'investment strategies', 'reporting', 'Equipment maintenance', 'technical support', 'Occupational health', 'health assessments', 'Market analysis', 'data collection', 'consumer insights', 'Operations analysis', 'process optimization', 'Personal training', 'exercise programming', 'nutrition', 'Therapy techniques', 'patient support', 'CAD software', 'construction support', 'HR operations', 'employee onboarding', 'benefits', 'Cybersecurity', 'threat detection', 'incident response', 'Technical training', 'curriculum development', 'Healthcare management', 'operations oversight', 'Environmental analysis', 'research methodologies', 'Data pipeline development', 'database management', 'Legal research', 'case analysis', 'document review', 'Technical support', 'issue resolution', 'CAD software', 'architectural drawings', 'Workplace health programs', 'regulations', 'Sales strategies', 'client acquisition', 'Epidemiological research', 'data analysis', 'Project management', 'stakeholder coordination', 'Medication dispensing', 'prescription processing', 'Project management', 'design coordination', 'Content planning', 'brand messaging', 'Equipment maintenance', 'repairs', 'Therapy support', 'patient assistance', 'Financial oversight', 'reporting', 'compliance', 'Social support', 'counseling', 'case management', 'Aerospace systems', 'maintenance', 'Network security', 'intrusion detection', 'User research', 'usability testing', 'Legal consultation', 'advisory services', 'Food product development', 'quality control', 'System maintenance', 'troubleshooting', 'Environmental regulations', 'inspections', 'Technical documentation', 'user manuals', 'Event planning', 'logistics', 'vendor management', 'User research', 'data collection', 'Sustainability strategies', 'environmental impact', 'Therapy support', 'patient assistance', 'Financial modeling', 'data analysis', 'forecasting', 'Equipment maintenance', 'technical support', 'Midwifery knowledge', 'maternal care', 'labor support', 'Creative direction', 'visual design', 'team leadership', 'Network maintenance', 'troubleshooting', 'security', 'Chemical analysis', 'laboratory techniques', 'research', 'Technical training', 'curriculum development', 'Healthcare management', 'operations oversight', 'CAD software', 'architectural drawings', 'Workplace health programs', 'regulations', 'Sales strategies', 'client acquisition', 'Epidemiological research', 'data analysis', 'Project management', 'stakeholder coordination', 'Medication dispensing', 'prescription processing', 'Project management', 'design coordination', 'Content planning', 'brand messaging', 'Equipment maintenance', 'repairs', 'Occupational health', 'health assessments', 'Market analysis', 'data collection', 'consumer insights', 'Operations analysis', 'process optimization']\n",
            "['machine learning algorithms', 'Aerospace design', 'data analysis', 'technical support', 'Accounting principles', 'inventory management', 'retirement planning', 'recruitment', 'User-centered design', 'publication', 'financial reporting', 'Project management', 'research', 'menu planning', 'negotiation', 'infrastructure', 'Legal expertise', 'Medication dispensing', 'SQL', 'document preparation', 'testing methodologies', 'employee onboarding', 'Event coordination', 'kitchen management', 'Equipment maintenance', 'design coordination', 'troubleshooting', 'medication dispensing', 'cybersecurity', 'Environmental regulations', 'Architectural software', 'empathy', 'Quality assurance', 'supply chain', 'exercise programming', 'thermodynamics', 'CSS', 'Operations analysis', 'Aerospace systems', 'patient support', 'Financial analysis', 'aerodynamics', 'bug tracking', 'Product development', 'architectural drawings', 'software architecture', 'Food product development', 'System maintenance', 'counseling', 'employee relations', 'classroom management', 'Troubleshooting', 'lesson planning', 'security', 'maintenance', 'Sustainability strategies', 'talent acquisition', 'Web design tools', 'data collection', 'JavaScript', 'Subject expertise', 'scheduling', 'Financial leadership', 'risk management', 'Social media strategy', 'propulsion systems', 'CRM', 'Pharmacology', 'labor support', 'problem-solving', 'scalability', 'Technical support', 'Project planning', 'aesthetics', 'Environmental analysis', 'logistics', 'regulations', 'Electrical design', 'client communication', 'HR operations', 'Recruitment', 'Content planning', 'sales techniques', 'hardware/software assistance', 'vendor relations', 'Social media marketing', 'Culinary skills', 'case analysis', 'content creation', 'UI/UX principles', 'Proficiency Java', 'circuit analysis', 'Culinary expertise', 'document review', 'Technical documentation', 'oral health education', 'client consultation', 'data preprocessing', 'patient care', 'visual design', 'communication', 'mechanical design', 'materials science', 'patient assistance', 'maternal care', 'AutoCAD', 'patient assessment', 'construction support', 'strategic planning', 'Data pipeline development', 'Media relations', 'case management', 'Adobe Creative Suite', 'HTML', 'health assessments', 'PCB design', 'structural design', 'Rehabilitation techniques', 'Legal documentation', 'prototyping', 'vendor management', 'Architectural design', 'data visualization', 'Cybersecurity', 'Copywriting', 'Network configuration', 'investment strategies', 'Chemical analysis', 'Communication', 'repairs', 'Creative direction', 'Event planning', 'wireframing', 'curriculum development', 'responsive design', 'networking', 'Space planning', 'intrusion detection', 'environmental impact', 'incident response', 'Java', 'project management', 'Financial planning', 'documentation', 'patient counseling', 'database management', 'sterilization', 'testing', 'Social support', 'Advanced nursing degree', 'Epidemiological research', 'Legal research', 'prescription processing', 'contract drafting', 'benefits', 'budgeting', 'threat detection', 'Technical training', 'research methodologies', 'Excel', 'Digital marketing', 'C++', 'storytelling', 'diagnostics', 'Research methodologies', 'collaboration', 'HR policies', 'Logistics', 'nutrition', 'stakeholder coordination', 'rehabilitation', 'requirements gathering', 'Midwifery knowledge', 'design principles', 'investments', 'child health', 'teamwork', 'visual communication', 'campaign management', 'Dental procedures', 'reporting', 'Workplace health programs', 'inspections', 'typography', 'Financial modeling', 'social media', 'Employee relations', 'user manuals', 'SEO', 'Electrical systems', 'market analysis', 'Medical degree', 'Therapy support', 'process optimization', 'compliance', 'user testing', 'Therapy techniques', 'team management', 'Workplace health', 'Legal consultation', 'Personal training', 'Data analysis', 'Market analysis', 'Process optimization', 'Civil engineering principles', 'Marketing campaigns', 'consumer insights', 'usability testing', 'debugging', 'issue resolution', 'Financial oversight', 'analytics', 'software development', 'System design', 'advisory services', 'Nursing degree', 'Medical assessment', 'client acquisition', 'CAD software', 'quality control', 'food safety', 'litigation support', 'leadership', 'Occupational health', 'Sales strategies', 'brand messaging', 'operations oversight', 'Python', 'ergonomic assessment', 'Technology solutions', 'QA processes', 'Network maintenance', 'laboratory techniques', 'medical knowledge', 'team leadership', 'wiring', 'Healthcare management', 'Network security', 'menu creation', 'User research', 'event planning', 'forecasting']\n"
          ]
        }
      ],
      "source": [
        "combined=[]\n",
        "for i in slist:\n",
        "  combined.extend(i)\n",
        "\n",
        "print(list(combined))\n",
        "\n",
        "#eliminating duplicates\n",
        "print(list(set(combined)))"
      ]
    },
    {
      "cell_type": "markdown",
      "metadata": {
        "id": "vCxw46vC9L9Z"
      },
      "source": [
        "## Modelling"
      ]
    },
    {
      "cell_type": "markdown",
      "metadata": {
        "id": "McbyCISOCxih"
      },
      "source": [
        "### Vectorization"
      ]
    },
    {
      "cell_type": "code",
      "execution_count": 234,
      "metadata": {
        "colab": {
          "base_uri": "https://localhost:8080/"
        },
        "id": "pvGG16-_WlGg",
        "outputId": "4dac362e-5bc6-4b88-feef-55d2d683c8c4"
      },
      "outputs": [
        {
          "name": "stdout",
          "output_type": "stream",
          "text": [
            "Vocabulary:  {'data': 1, 'analysis': 0, 'patient': 4, 'design': 2, 'management': 3}\n",
            "  (2, 0)\t0.6586286478914134\n",
            "  (2, 1)\t0.7524681416357296\n",
            "  (3, 4)\t1.0\n",
            "  (5, 1)\t1.0\n",
            "  (6, 2)\t1.0\n",
            "  (8, 2)\t1.0\n",
            "  (16, 3)\t0.6947839741953812\n",
            "  (16, 2)\t0.7192184850247327\n",
            "  (17, 0)\t0.400930738863647\n",
            "  (17, 1)\t0.9161083683900338\n",
            "  (19, 3)\t1.0\n",
            "  (20, 3)\t1.0\n",
            "  (21, 2)\t0.9004618840058723\n",
            "  (21, 0)\t0.43493493243541015\n",
            "  (22, 4)\t1.0\n",
            "  (24, 2)\t1.0\n",
            "  (25, 3)\t1.0\n",
            "  (27, 4)\t1.0\n",
            "  (29, 3)\t1.0\n",
            "  (31, 4)\t1.0\n",
            "  (34, 3)\t0.7071067811865476\n",
            "  (34, 0)\t0.7071067811865476\n",
            "  (36, 2)\t1.0\n",
            "  (37, 4)\t1.0\n",
            "  (39, 4)\t1.0\n",
            "  :\t:\n",
            "  (85, 1)\t0.7524681416357296\n",
            "  (86, 0)\t1.0\n",
            "  (91, 0)\t0.6586286478914134\n",
            "  (91, 1)\t0.7524681416357296\n",
            "  (92, 3)\t1.0\n",
            "  (94, 3)\t0.6947839741953812\n",
            "  (94, 2)\t0.7192184850247327\n",
            "  (97, 4)\t1.0\n",
            "  (99, 3)\t1.0\n",
            "  (108, 3)\t1.0\n",
            "  (109, 1)\t1.0\n",
            "  (111, 4)\t1.0\n",
            "  (112, 0)\t0.6586286478914134\n",
            "  (112, 1)\t0.7524681416357296\n",
            "  (115, 2)\t1.0\n",
            "  (117, 0)\t1.0\n",
            "  (119, 3)\t1.0\n",
            "  (123, 0)\t0.6586286478914134\n",
            "  (123, 1)\t0.7524681416357296\n",
            "  (124, 3)\t1.0\n",
            "  (126, 3)\t0.6947839741953812\n",
            "  (126, 2)\t0.7192184850247327\n",
            "  (130, 0)\t0.6586286478914134\n",
            "  (130, 1)\t0.7524681416357296\n",
            "  (131, 0)\t1.0\n"
          ]
        },
        {
          "data": {
            "text/plain": [
              "['tfidf_vocabulary.pkl']"
            ]
          },
          "execution_count": 234,
          "metadata": {},
          "output_type": "execute_result"
        }
      ],
      "source": [
        "vectorizer = TfidfVectorizer(max_features=5)\n",
        "vectors = vectorizer.fit_transform(skills['Required Skills'])\n",
        "print(\"Vocabulary: \", vectorizer.vocabulary_)\n",
        "X=vectors\n",
        "# print(X.toarray())\n",
        "print(X)\n",
        "\n",
        "# Save the trained vocabulary to a file\n",
        "joblib.dump(vectorizer.vocabulary_, 'tfidf_vocabulary.pkl')"
      ]
    },
    {
      "cell_type": "markdown",
      "metadata": {
        "id": "pRSHqjIHbB-z"
      },
      "source": [
        "### Train Test Split\n"
      ]
    },
    {
      "cell_type": "code",
      "execution_count": 235,
      "metadata": {
        "colab": {
          "base_uri": "https://localhost:8080/"
        },
        "id": "ch13fpBHZ_oa",
        "outputId": "ce60c3e6-5ea1-41b0-8a54-6246a1e64774"
      },
      "outputs": [
        {
          "name": "stdout",
          "output_type": "stream",
          "text": [
            "  (0, 0)\t1.0\n",
            "  (1, 1)\t1.0\n",
            "  (2, 1)\t1.0\n",
            "  (3, 0)\t0.6586286478914134\n",
            "  (3, 1)\t0.7524681416357296\n",
            "  (5, 4)\t1.0\n",
            "  (7, 4)\t1.0\n",
            "  (9, 2)\t1.0\n",
            "  (10, 0)\t1.0\n",
            "  (13, 3)\t1.0\n",
            "  (14, 2)\t1.0\n",
            "  (17, 3)\t1.0\n",
            "  (18, 0)\t0.6586286478914134\n",
            "  (18, 1)\t0.7524681416357296\n",
            "  (22, 3)\t0.6586286478914134\n",
            "  (22, 1)\t0.7524681416357296\n",
            "  (23, 0)\t0.400930738863647\n",
            "  (23, 1)\t0.9161083683900338\n",
            "  (25, 4)\t1.0\n",
            "  (29, 0)\t1.0\n",
            "  (30, 0)\t1.0\n",
            "  (32, 2)\t1.0\n",
            "  (33, 2)\t1.0\n",
            "  (34, 4)\t1.0\n",
            "  (36, 2)\t1.0\n",
            "  :\t:\n",
            "  (75, 0)\t0.6586286478914134\n",
            "  (75, 1)\t0.7524681416357296\n",
            "  (79, 0)\t0.6586286478914134\n",
            "  (79, 1)\t0.7524681416357296\n",
            "  (83, 4)\t1.0\n",
            "  (87, 4)\t1.0\n",
            "  (91, 3)\t0.6947839741953812\n",
            "  (91, 2)\t0.7192184850247327\n",
            "  (92, 3)\t1.0\n",
            "  (94, 2)\t1.0\n",
            "  (97, 4)\t1.0\n",
            "  (98, 2)\t1.0\n",
            "  (100, 0)\t1.0\n",
            "  (102, 4)\t1.0\n",
            "  (105, 2)\t0.9004618840058723\n",
            "  (105, 0)\t0.43493493243541015\n",
            "  (106, 2)\t1.0\n",
            "  (107, 2)\t1.0\n",
            "  (108, 2)\t1.0\n",
            "  (110, 4)\t1.0\n",
            "  (113, 0)\t0.6586286478914134\n",
            "  (113, 1)\t0.7524681416357296\n",
            "  (114, 0)\t0.6586286478914134\n",
            "  (114, 1)\t0.7524681416357296\n",
            "  (116, 3)\t1.0   (4, 4)\t1.0\n",
            "  (5, 3)\t1.0\n",
            "  (6, 3)\t1.0\n",
            "  (7, 3)\t1.0\n",
            "  (8, 3)\t1.0\n",
            "  (12, 0)\t1.0\n",
            "['Financial Planner' 'Data Scientist' 'UX Research Assistant'\n",
            " 'Financial Analyst' 'Pharmacy Technician' 'Physical Therapist Assistant'\n",
            " 'IT Support' 'Occupational Therapist' 'Business Development Manager'\n",
            " 'Web Developer' 'Operations Analyst' 'Social Media Manager'\n",
            " 'Occupational Health Nurse' 'Event Coordinator' 'Civil Engineer'\n",
            " 'HR Generalist' 'Mechanical Technician' 'IT Project Manager'\n",
            " 'Market Researcher' 'Marketing Coordinator' 'Network Administrator'\n",
            " 'Architectural Drafter' 'Data Engineer' 'Data Analyst'\n",
            " 'Sustainability Consultant' 'Nurse Practitioner' 'IT Trainer'\n",
            " 'IT Systems Administrator' 'Financial Advisor' 'Chemist' 'Chemist'\n",
            " 'Architectural Drafter' 'Art Director' 'Art Director'\n",
            " 'Occupational Therapist Assistant' 'Occupational Health Specialist'\n",
            " 'Software Architect' 'Content Strategist' 'Mechanical Engineer'\n",
            " 'Supply Chain Manager' 'Content Writer' 'Software Support Specialist'\n",
            " 'Pharmacy Technician' 'Occupational Therapist Aide'\n",
            " 'Occupational Health Nurse' 'Graphic Designer' 'Operations Analyst'\n",
            " 'Software Tester' 'IT Manager' 'Aerospace Technician'\n",
            " 'Financial Controller' 'UI/UX Designer' 'Legal Counsel'\n",
            " 'Dental Assistant' 'Mechanical Maintenance Technician' 'Network Engineer'\n",
            " 'Architectural Project Manager' 'Healthcare Administrator'\n",
            " 'IT Project Manager' 'Interior Designer' 'Occupational Health Manager'\n",
            " 'Architect' 'Software Developer' 'Healthcare Administrator'\n",
            " 'Aerospace Engineer' 'Environmental Scientist' 'Product Manager'\n",
            " 'Business Analyst' 'IT Trainer' 'Market Researcher'\n",
            " 'Architectural Designer' 'Financial Analyst' 'Chef de Cuisine'\n",
            " 'HR Manager' 'Registered Nurse' 'Research Scientist'\n",
            " 'Marketing Specialist' 'Nurse Midwife' 'Legal Secretary' 'Epidemiologist'\n",
            " 'Software Engineer' 'Customer Support' 'IT Consultant'\n",
            " 'Physical Therapist' 'Business Development Manager' 'Project Manager'\n",
            " 'Legal Advisor' 'Physician Assistant' 'Mechanical Maintenance Technician'\n",
            " 'Electrician' 'Food Scientist' 'Architectural Project Manager' 'Teacher'\n",
            " 'Accountant' 'Mechanical Engineer' 'Content Strategist'\n",
            " 'Civil Engineering Technician' 'Pediatrician' 'UX/UI Designer'\n",
            " 'Human Resources' 'Legal Researcher' 'Nurse Midwife' 'Dental Hygienist'\n",
            " 'Mechanical Technician' 'Occupational Health Manager'\n",
            " 'Electrical Engineer' 'Web Designer' 'Aerospace Engineer'\n",
            " 'Mechanical Designer' 'UI/UX Researcher' 'Occupational Therapy Aide'\n",
            " 'Environmental Health Specialist' 'Public Relations Specialist'\n",
            " 'Financial Analyst' 'Epidemiologist' 'Network Security Engineer'\n",
            " 'Event Planner' 'Network Administrator'] ['Sales Representative' 'IT Security Analyst' 'Technical Writer'\n",
            " 'HR Specialist' 'Pharmacist' 'Social Worker' 'Marketing Manager'\n",
            " 'Legal Assistant' 'Chief Financial Officer' 'Chef' 'Fitness Trainer'\n",
            " 'Operations Manager' 'Financial Analyst' 'Quality Assurance Specialist']\n"
          ]
        }
      ],
      "source": [
        "Y=skills['Job Title'].values\n",
        "\n",
        "X_train, X_test, y_train, y_test = train_test_split(X, Y, test_size=0.1)\n",
        "\n",
        "print(X_train,X_test)\n",
        "print(y_train,y_test)"
      ]
    },
    {
      "cell_type": "code",
      "execution_count": 236,
      "metadata": {
        "id": "mrpsX0pgk2TB"
      },
      "outputs": [],
      "source": [
        "dct=dict()"
      ]
    },
    {
      "cell_type": "markdown",
      "metadata": {
        "id": "w76qUK05caVC"
      },
      "source": [
        "### Support Vector Machine"
      ]
    },
    {
      "cell_type": "code",
      "execution_count": 237,
      "metadata": {
        "id": "uuW24ZLRaonj"
      },
      "outputs": [],
      "source": [
        "svc = SVC(kernel = 'linear',gamma='auto')\n",
        "svc.fit(X_train, y_train)\n",
        "y_pred = svc.predict(X_test)"
      ]
    },
    {
      "cell_type": "code",
      "execution_count": 238,
      "metadata": {},
      "outputs": [
        {
          "name": "stdout",
          "output_type": "stream",
          "text": [
            "(14, 5)\n"
          ]
        }
      ],
      "source": [
        "print(X_test.shape)"
      ]
    },
    {
      "cell_type": "code",
      "execution_count": 239,
      "metadata": {
        "colab": {
          "base_uri": "https://localhost:8080/"
        },
        "id": "Zl8n9DTeb8fk",
        "outputId": "c490eb88-795a-44fa-93eb-083ef21305b8"
      },
      "outputs": [
        {
          "name": "stdout",
          "output_type": "stream",
          "text": [
            "                              precision    recall  f1-score   support\n",
            "\n",
            "                        Chef       0.00      0.00      0.00       1.0\n",
            "     Chief Financial Officer       0.00      0.00      0.00       1.0\n",
            "           Financial Analyst       0.00      0.00      0.00       1.0\n",
            "             Fitness Trainer       0.00      0.00      0.00       1.0\n",
            "               HR Specialist       0.00      0.00      0.00       1.0\n",
            "          IT Project Manager       0.00      0.00      0.00       0.0\n",
            "         IT Security Analyst       0.00      0.00      0.00       1.0\n",
            "             Legal Assistant       0.00      0.00      0.00       1.0\n",
            "           Marketing Manager       0.00      0.00      0.00       1.0\n",
            "          Operations Analyst       0.00      0.00      0.00       0.0\n",
            "          Operations Manager       0.00      0.00      0.00       1.0\n",
            "                  Pharmacist       0.00      0.00      0.00       1.0\n",
            "         Pharmacy Technician       0.00      0.00      0.00       0.0\n",
            "Quality Assurance Specialist       0.00      0.00      0.00       1.0\n",
            "            Registered Nurse       0.00      0.00      0.00       0.0\n",
            "        Sales Representative       0.00      0.00      0.00       1.0\n",
            "               Social Worker       0.00      0.00      0.00       1.0\n",
            "            Technical Writer       0.00      0.00      0.00       1.0\n",
            "\n",
            "                    accuracy                           0.00      14.0\n",
            "                   macro avg       0.00      0.00      0.00      14.0\n",
            "                weighted avg       0.00      0.00      0.00      14.0\n",
            "\n",
            "[[0 0 0 0 0 0 0 0 0 0 0 0 1 0 0 0 0 0]\n",
            " [0 0 0 0 0 1 0 0 0 0 0 0 0 0 0 0 0 0]\n",
            " [0 0 0 0 0 0 0 0 0 1 0 0 0 0 0 0 0 0]\n",
            " [0 0 0 0 0 0 0 0 0 0 0 0 1 0 0 0 0 0]\n",
            " [0 0 0 0 0 0 0 0 0 0 0 0 1 0 0 0 0 0]\n",
            " [0 0 0 0 0 0 0 0 0 0 0 0 0 0 0 0 0 0]\n",
            " [0 0 0 0 0 0 0 0 0 0 0 0 1 0 0 0 0 0]\n",
            " [0 0 0 0 0 1 0 0 0 0 0 0 0 0 0 0 0 0]\n",
            " [0 0 0 0 0 1 0 0 0 0 0 0 0 0 0 0 0 0]\n",
            " [0 0 0 0 0 0 0 0 0 0 0 0 0 0 0 0 0 0]\n",
            " [0 0 0 0 0 0 0 0 0 0 0 0 1 0 0 0 0 0]\n",
            " [0 0 0 0 0 0 0 0 0 0 0 0 0 0 1 0 0 0]\n",
            " [0 0 0 0 0 0 0 0 0 0 0 0 0 0 0 0 0 0]\n",
            " [0 0 0 0 0 0 0 0 0 0 0 0 1 0 0 0 0 0]\n",
            " [0 0 0 0 0 0 0 0 0 0 0 0 0 0 0 0 0 0]\n",
            " [0 0 0 0 0 0 0 0 0 0 0 0 1 0 0 0 0 0]\n",
            " [0 0 0 0 0 1 0 0 0 0 0 0 0 0 0 0 0 0]\n",
            " [0 0 0 0 0 0 0 0 0 0 0 0 1 0 0 0 0 0]]\n"
          ]
        },
        {
          "name": "stderr",
          "output_type": "stream",
          "text": [
            "c:\\Users\\Anish Kumar K\\AppData\\Local\\Programs\\Python\\Python311\\Lib\\site-packages\\sklearn\\metrics\\_classification.py:1469: UndefinedMetricWarning: Precision and F-score are ill-defined and being set to 0.0 in labels with no predicted samples. Use `zero_division` parameter to control this behavior.\n",
            "  _warn_prf(average, modifier, msg_start, len(result))\n",
            "c:\\Users\\Anish Kumar K\\AppData\\Local\\Programs\\Python\\Python311\\Lib\\site-packages\\sklearn\\metrics\\_classification.py:1469: UndefinedMetricWarning: Recall and F-score are ill-defined and being set to 0.0 in labels with no true samples. Use `zero_division` parameter to control this behavior.\n",
            "  _warn_prf(average, modifier, msg_start, len(result))\n",
            "c:\\Users\\Anish Kumar K\\AppData\\Local\\Programs\\Python\\Python311\\Lib\\site-packages\\sklearn\\metrics\\_classification.py:1469: UndefinedMetricWarning: Precision and F-score are ill-defined and being set to 0.0 in labels with no predicted samples. Use `zero_division` parameter to control this behavior.\n",
            "  _warn_prf(average, modifier, msg_start, len(result))\n",
            "c:\\Users\\Anish Kumar K\\AppData\\Local\\Programs\\Python\\Python311\\Lib\\site-packages\\sklearn\\metrics\\_classification.py:1469: UndefinedMetricWarning: Recall and F-score are ill-defined and being set to 0.0 in labels with no true samples. Use `zero_division` parameter to control this behavior.\n",
            "  _warn_prf(average, modifier, msg_start, len(result))\n",
            "c:\\Users\\Anish Kumar K\\AppData\\Local\\Programs\\Python\\Python311\\Lib\\site-packages\\sklearn\\metrics\\_classification.py:1469: UndefinedMetricWarning: Precision and F-score are ill-defined and being set to 0.0 in labels with no predicted samples. Use `zero_division` parameter to control this behavior.\n",
            "  _warn_prf(average, modifier, msg_start, len(result))\n",
            "c:\\Users\\Anish Kumar K\\AppData\\Local\\Programs\\Python\\Python311\\Lib\\site-packages\\sklearn\\metrics\\_classification.py:1469: UndefinedMetricWarning: Recall and F-score are ill-defined and being set to 0.0 in labels with no true samples. Use `zero_division` parameter to control this behavior.\n",
            "  _warn_prf(average, modifier, msg_start, len(result))\n"
          ]
        }
      ],
      "source": [
        "print(classification_report(y_test,y_pred))\n",
        "print(confusion_matrix(y_test,y_pred))\n",
        "dct[\"SVM\"]=round(accuracy_score(y_test,y_pred)*100,2)"
      ]
    },
    {
      "cell_type": "markdown",
      "metadata": {
        "id": "FPEzaL-fhemq"
      },
      "source": [
        "### Naive Bayes"
      ]
    },
    {
      "cell_type": "code",
      "execution_count": 240,
      "metadata": {
        "colab": {
          "base_uri": "https://localhost:8080/"
        },
        "id": "BRTNGnZzcUE8",
        "outputId": "5fca077b-929a-4a8b-a0bd-52b42239b47c"
      },
      "outputs": [
        {
          "name": "stdout",
          "output_type": "stream",
          "text": [
            "                              precision    recall  f1-score   support\n",
            "\n",
            "       Architectural Drafter       0.00      0.00      0.00       0.0\n",
            "                        Chef       0.00      0.00      0.00       1.0\n",
            "                     Chemist       0.00      0.00      0.00       0.0\n",
            "     Chief Financial Officer       0.00      0.00      0.00       1.0\n",
            "            Dental Assistant       0.00      0.00      0.00       0.0\n",
            "           Financial Analyst       0.00      0.00      0.00       1.0\n",
            "             Fitness Trainer       0.00      0.00      0.00       1.0\n",
            "               HR Specialist       0.00      0.00      0.00       1.0\n",
            "    Healthcare Administrator       0.00      0.00      0.00       0.0\n",
            "         IT Security Analyst       0.00      0.00      0.00       1.0\n",
            "             Legal Assistant       0.00      0.00      0.00       1.0\n",
            "           Marketing Manager       0.00      0.00      0.00       1.0\n",
            "          Operations Manager       0.00      0.00      0.00       1.0\n",
            "                  Pharmacist       0.00      0.00      0.00       1.0\n",
            "Quality Assurance Specialist       0.00      0.00      0.00       1.0\n",
            "        Sales Representative       0.00      0.00      0.00       1.0\n",
            "               Social Worker       0.00      0.00      0.00       1.0\n",
            "            Technical Writer       0.00      0.00      0.00       1.0\n",
            "\n",
            "                    accuracy                           0.00      14.0\n",
            "                   macro avg       0.00      0.00      0.00      14.0\n",
            "                weighted avg       0.00      0.00      0.00      14.0\n",
            "\n",
            "[[0 0 0 0 0 0 0 0 0 0 0 0 0 0 0 0 0 0]\n",
            " [1 0 0 0 0 0 0 0 0 0 0 0 0 0 0 0 0 0]\n",
            " [0 0 0 0 0 0 0 0 0 0 0 0 0 0 0 0 0 0]\n",
            " [0 0 0 0 0 0 0 0 1 0 0 0 0 0 0 0 0 0]\n",
            " [0 0 0 0 0 0 0 0 0 0 0 0 0 0 0 0 0 0]\n",
            " [0 0 1 0 0 0 0 0 0 0 0 0 0 0 0 0 0 0]\n",
            " [1 0 0 0 0 0 0 0 0 0 0 0 0 0 0 0 0 0]\n",
            " [1 0 0 0 0 0 0 0 0 0 0 0 0 0 0 0 0 0]\n",
            " [0 0 0 0 0 0 0 0 0 0 0 0 0 0 0 0 0 0]\n",
            " [1 0 0 0 0 0 0 0 0 0 0 0 0 0 0 0 0 0]\n",
            " [0 0 0 0 0 0 0 0 1 0 0 0 0 0 0 0 0 0]\n",
            " [0 0 0 0 0 0 0 0 1 0 0 0 0 0 0 0 0 0]\n",
            " [1 0 0 0 0 0 0 0 0 0 0 0 0 0 0 0 0 0]\n",
            " [0 0 0 0 1 0 0 0 0 0 0 0 0 0 0 0 0 0]\n",
            " [1 0 0 0 0 0 0 0 0 0 0 0 0 0 0 0 0 0]\n",
            " [1 0 0 0 0 0 0 0 0 0 0 0 0 0 0 0 0 0]\n",
            " [0 0 0 0 0 0 0 0 1 0 0 0 0 0 0 0 0 0]\n",
            " [1 0 0 0 0 0 0 0 0 0 0 0 0 0 0 0 0 0]]\n"
          ]
        },
        {
          "name": "stderr",
          "output_type": "stream",
          "text": [
            "c:\\Users\\Anish Kumar K\\AppData\\Local\\Programs\\Python\\Python311\\Lib\\site-packages\\sklearn\\metrics\\_classification.py:1469: UndefinedMetricWarning: Precision and F-score are ill-defined and being set to 0.0 in labels with no predicted samples. Use `zero_division` parameter to control this behavior.\n",
            "  _warn_prf(average, modifier, msg_start, len(result))\n",
            "c:\\Users\\Anish Kumar K\\AppData\\Local\\Programs\\Python\\Python311\\Lib\\site-packages\\sklearn\\metrics\\_classification.py:1469: UndefinedMetricWarning: Recall and F-score are ill-defined and being set to 0.0 in labels with no true samples. Use `zero_division` parameter to control this behavior.\n",
            "  _warn_prf(average, modifier, msg_start, len(result))\n",
            "c:\\Users\\Anish Kumar K\\AppData\\Local\\Programs\\Python\\Python311\\Lib\\site-packages\\sklearn\\metrics\\_classification.py:1469: UndefinedMetricWarning: Precision and F-score are ill-defined and being set to 0.0 in labels with no predicted samples. Use `zero_division` parameter to control this behavior.\n",
            "  _warn_prf(average, modifier, msg_start, len(result))\n",
            "c:\\Users\\Anish Kumar K\\AppData\\Local\\Programs\\Python\\Python311\\Lib\\site-packages\\sklearn\\metrics\\_classification.py:1469: UndefinedMetricWarning: Recall and F-score are ill-defined and being set to 0.0 in labels with no true samples. Use `zero_division` parameter to control this behavior.\n",
            "  _warn_prf(average, modifier, msg_start, len(result))\n",
            "c:\\Users\\Anish Kumar K\\AppData\\Local\\Programs\\Python\\Python311\\Lib\\site-packages\\sklearn\\metrics\\_classification.py:1469: UndefinedMetricWarning: Precision and F-score are ill-defined and being set to 0.0 in labels with no predicted samples. Use `zero_division` parameter to control this behavior.\n",
            "  _warn_prf(average, modifier, msg_start, len(result))\n",
            "c:\\Users\\Anish Kumar K\\AppData\\Local\\Programs\\Python\\Python311\\Lib\\site-packages\\sklearn\\metrics\\_classification.py:1469: UndefinedMetricWarning: Recall and F-score are ill-defined and being set to 0.0 in labels with no true samples. Use `zero_division` parameter to control this behavior.\n",
            "  _warn_prf(average, modifier, msg_start, len(result))\n"
          ]
        }
      ],
      "source": [
        "gnb = GaussianNB()\n",
        "classifier = gnb.fit(X_train.toarray(), y_train)\n",
        "y_pred = classifier.predict(X_test.toarray())\n",
        "\n",
        "print(classification_report(y_test, y_pred))\n",
        "print(confusion_matrix(y_test,y_pred))\n",
        "dct[\"Naive Bayes\"]=round(accuracy_score(y_test,y_pred)*100,2)"
      ]
    },
    {
      "cell_type": "code",
      "execution_count": 241,
      "metadata": {
        "colab": {
          "base_uri": "https://localhost:8080/"
        },
        "id": "m8BqjZDuddGw",
        "outputId": "afbc5885-109d-4a51-a959-e5568ae86918"
      },
      "outputs": [
        {
          "name": "stderr",
          "output_type": "stream",
          "text": [
            "c:\\Users\\Anish Kumar K\\AppData\\Local\\Programs\\Python\\Python311\\Lib\\site-packages\\sklearn\\metrics\\_classification.py:1469: UndefinedMetricWarning: Precision and F-score are ill-defined and being set to 0.0 in labels with no predicted samples. Use `zero_division` parameter to control this behavior.\n",
            "  _warn_prf(average, modifier, msg_start, len(result))\n",
            "c:\\Users\\Anish Kumar K\\AppData\\Local\\Programs\\Python\\Python311\\Lib\\site-packages\\sklearn\\metrics\\_classification.py:1469: UndefinedMetricWarning: Recall and F-score are ill-defined and being set to 0.0 in labels with no true samples. Use `zero_division` parameter to control this behavior.\n",
            "  _warn_prf(average, modifier, msg_start, len(result))\n"
          ]
        },
        {
          "name": "stdout",
          "output_type": "stream",
          "text": [
            "                              precision    recall  f1-score   support\n",
            "\n",
            "       Architectural Drafter       0.00      0.00      0.00       0.0\n",
            "                        Chef       0.00      0.00      0.00       1.0\n",
            "                     Chemist       0.00      0.00      0.00       0.0\n",
            "     Chief Financial Officer       0.00      0.00      0.00       1.0\n",
            "           Financial Analyst       0.00      0.00      0.00       1.0\n",
            "             Fitness Trainer       0.00      0.00      0.00       1.0\n",
            "               HR Specialist       0.00      0.00      0.00       1.0\n",
            "    Healthcare Administrator       0.00      0.00      0.00       0.0\n",
            "         IT Security Analyst       0.00      0.00      0.00       1.0\n",
            "             Legal Assistant       0.00      0.00      0.00       1.0\n",
            "           Marketing Manager       0.00      0.00      0.00       1.0\n",
            "          Operations Manager       0.00      0.00      0.00       1.0\n",
            "                  Pharmacist       0.00      0.00      0.00       1.0\n",
            "Quality Assurance Specialist       0.00      0.00      0.00       1.0\n",
            "        Sales Representative       0.00      0.00      0.00       1.0\n",
            "               Social Worker       0.00      0.00      0.00       1.0\n",
            "            Technical Writer       0.00      0.00      0.00       1.0\n",
            "\n",
            "                    accuracy                           0.00      14.0\n",
            "                   macro avg       0.00      0.00      0.00      14.0\n",
            "                weighted avg       0.00      0.00      0.00      14.0\n",
            "\n",
            "[[0 0 0 0 0 0 0 0 0 0 0 0 0 0 0 0 0]\n",
            " [1 0 0 0 0 0 0 0 0 0 0 0 0 0 0 0 0]\n",
            " [0 0 0 0 0 0 0 0 0 0 0 0 0 0 0 0 0]\n",
            " [0 0 0 0 0 0 0 1 0 0 0 0 0 0 0 0 0]\n",
            " [0 0 1 0 0 0 0 0 0 0 0 0 0 0 0 0 0]\n",
            " [1 0 0 0 0 0 0 0 0 0 0 0 0 0 0 0 0]\n",
            " [1 0 0 0 0 0 0 0 0 0 0 0 0 0 0 0 0]\n",
            " [0 0 0 0 0 0 0 0 0 0 0 0 0 0 0 0 0]\n",
            " [1 0 0 0 0 0 0 0 0 0 0 0 0 0 0 0 0]\n",
            " [0 0 0 0 0 0 0 1 0 0 0 0 0 0 0 0 0]\n",
            " [0 0 0 0 0 0 0 1 0 0 0 0 0 0 0 0 0]\n",
            " [1 0 0 0 0 0 0 0 0 0 0 0 0 0 0 0 0]\n",
            " [1 0 0 0 0 0 0 0 0 0 0 0 0 0 0 0 0]\n",
            " [1 0 0 0 0 0 0 0 0 0 0 0 0 0 0 0 0]\n",
            " [1 0 0 0 0 0 0 0 0 0 0 0 0 0 0 0 0]\n",
            " [0 0 0 0 0 0 0 1 0 0 0 0 0 0 0 0 0]\n",
            " [1 0 0 0 0 0 0 0 0 0 0 0 0 0 0 0 0]]\n"
          ]
        },
        {
          "name": "stderr",
          "output_type": "stream",
          "text": [
            "c:\\Users\\Anish Kumar K\\AppData\\Local\\Programs\\Python\\Python311\\Lib\\site-packages\\sklearn\\metrics\\_classification.py:1469: UndefinedMetricWarning: Precision and F-score are ill-defined and being set to 0.0 in labels with no predicted samples. Use `zero_division` parameter to control this behavior.\n",
            "  _warn_prf(average, modifier, msg_start, len(result))\n",
            "c:\\Users\\Anish Kumar K\\AppData\\Local\\Programs\\Python\\Python311\\Lib\\site-packages\\sklearn\\metrics\\_classification.py:1469: UndefinedMetricWarning: Recall and F-score are ill-defined and being set to 0.0 in labels with no true samples. Use `zero_division` parameter to control this behavior.\n",
            "  _warn_prf(average, modifier, msg_start, len(result))\n",
            "c:\\Users\\Anish Kumar K\\AppData\\Local\\Programs\\Python\\Python311\\Lib\\site-packages\\sklearn\\metrics\\_classification.py:1469: UndefinedMetricWarning: Precision and F-score are ill-defined and being set to 0.0 in labels with no predicted samples. Use `zero_division` parameter to control this behavior.\n",
            "  _warn_prf(average, modifier, msg_start, len(result))\n",
            "c:\\Users\\Anish Kumar K\\AppData\\Local\\Programs\\Python\\Python311\\Lib\\site-packages\\sklearn\\metrics\\_classification.py:1469: UndefinedMetricWarning: Recall and F-score are ill-defined and being set to 0.0 in labels with no true samples. Use `zero_division` parameter to control this behavior.\n",
            "  _warn_prf(average, modifier, msg_start, len(result))\n"
          ]
        }
      ],
      "source": [
        "bnb = BernoulliNB()\n",
        "classifier = bnb.fit(X_train.toarray(), y_train)\n",
        "y_pred = classifier.predict(X_test.toarray())\n",
        "\n",
        "print(classification_report(y_test, y_pred))\n",
        "print(confusion_matrix(y_test,y_pred))"
      ]
    },
    {
      "cell_type": "markdown",
      "metadata": {
        "id": "YdEZktT4fKGY"
      },
      "source": [
        "### K Nearest Neighbours"
      ]
    },
    {
      "cell_type": "code",
      "execution_count": 242,
      "metadata": {
        "colab": {
          "base_uri": "https://localhost:8080/"
        },
        "id": "Kv5qSQv8fQQZ",
        "outputId": "77099bd1-0750-4870-c5ef-82f0353d86a6"
      },
      "outputs": [
        {
          "name": "stdout",
          "output_type": "stream",
          "text": [
            "Accuracy: 0.0\n"
          ]
        }
      ],
      "source": [
        "# Standardize the features\n",
        "scaler = StandardScaler()\n",
        "# X_train_scaled = scaler.fit_transform(X_train)\n",
        "# X_test_scaled = scaler.transform(X_test)\n",
        "\n",
        "# Initialize the KNN classifier\n",
        "knn = KNeighborsClassifier(n_neighbors=3)  # You can adjust n_neighbors\n",
        "\n",
        "# Train the model\n",
        "knn.fit(X_train, y_train)\n",
        "\n",
        "# Make predictions on the test data\n",
        "predictions = knn.predict(X_test)\n",
        "\n",
        "# Calculate accuracy\n",
        "accuracy = accuracy_score(y_test, predictions)\n",
        "print(\"Accuracy:\", accuracy)\n",
        "dct[\"KNN\"]=round(accuracy_score(y_test,predictions)*100,2)"
      ]
    },
    {
      "cell_type": "markdown",
      "metadata": {
        "id": "hSmAPgzphsnj"
      },
      "source": []
    },
    {
      "cell_type": "markdown",
      "metadata": {
        "id": "jsjAwFGfhugU"
      },
      "source": [
        "### Random Forest"
      ]
    },
    {
      "cell_type": "code",
      "execution_count": 243,
      "metadata": {
        "colab": {
          "base_uri": "https://localhost:8080/",
          "height": 74
        },
        "id": "ycA_NvBwhzNH",
        "outputId": "6d925d73-d078-4d75-d52b-a184f7cdf076"
      },
      "outputs": [
        {
          "data": {
            "text/html": [
              "<style>#sk-container-id-7 {color: black;}#sk-container-id-7 pre{padding: 0;}#sk-container-id-7 div.sk-toggleable {background-color: white;}#sk-container-id-7 label.sk-toggleable__label {cursor: pointer;display: block;width: 100%;margin-bottom: 0;padding: 0.3em;box-sizing: border-box;text-align: center;}#sk-container-id-7 label.sk-toggleable__label-arrow:before {content: \"▸\";float: left;margin-right: 0.25em;color: #696969;}#sk-container-id-7 label.sk-toggleable__label-arrow:hover:before {color: black;}#sk-container-id-7 div.sk-estimator:hover label.sk-toggleable__label-arrow:before {color: black;}#sk-container-id-7 div.sk-toggleable__content {max-height: 0;max-width: 0;overflow: hidden;text-align: left;background-color: #f0f8ff;}#sk-container-id-7 div.sk-toggleable__content pre {margin: 0.2em;color: black;border-radius: 0.25em;background-color: #f0f8ff;}#sk-container-id-7 input.sk-toggleable__control:checked~div.sk-toggleable__content {max-height: 200px;max-width: 100%;overflow: auto;}#sk-container-id-7 input.sk-toggleable__control:checked~label.sk-toggleable__label-arrow:before {content: \"▾\";}#sk-container-id-7 div.sk-estimator input.sk-toggleable__control:checked~label.sk-toggleable__label {background-color: #d4ebff;}#sk-container-id-7 div.sk-label input.sk-toggleable__control:checked~label.sk-toggleable__label {background-color: #d4ebff;}#sk-container-id-7 input.sk-hidden--visually {border: 0;clip: rect(1px 1px 1px 1px);clip: rect(1px, 1px, 1px, 1px);height: 1px;margin: -1px;overflow: hidden;padding: 0;position: absolute;width: 1px;}#sk-container-id-7 div.sk-estimator {font-family: monospace;background-color: #f0f8ff;border: 1px dotted black;border-radius: 0.25em;box-sizing: border-box;margin-bottom: 0.5em;}#sk-container-id-7 div.sk-estimator:hover {background-color: #d4ebff;}#sk-container-id-7 div.sk-parallel-item::after {content: \"\";width: 100%;border-bottom: 1px solid gray;flex-grow: 1;}#sk-container-id-7 div.sk-label:hover label.sk-toggleable__label {background-color: #d4ebff;}#sk-container-id-7 div.sk-serial::before {content: \"\";position: absolute;border-left: 1px solid gray;box-sizing: border-box;top: 0;bottom: 0;left: 50%;z-index: 0;}#sk-container-id-7 div.sk-serial {display: flex;flex-direction: column;align-items: center;background-color: white;padding-right: 0.2em;padding-left: 0.2em;position: relative;}#sk-container-id-7 div.sk-item {position: relative;z-index: 1;}#sk-container-id-7 div.sk-parallel {display: flex;align-items: stretch;justify-content: center;background-color: white;position: relative;}#sk-container-id-7 div.sk-item::before, #sk-container-id-7 div.sk-parallel-item::before {content: \"\";position: absolute;border-left: 1px solid gray;box-sizing: border-box;top: 0;bottom: 0;left: 50%;z-index: -1;}#sk-container-id-7 div.sk-parallel-item {display: flex;flex-direction: column;z-index: 1;position: relative;background-color: white;}#sk-container-id-7 div.sk-parallel-item:first-child::after {align-self: flex-end;width: 50%;}#sk-container-id-7 div.sk-parallel-item:last-child::after {align-self: flex-start;width: 50%;}#sk-container-id-7 div.sk-parallel-item:only-child::after {width: 0;}#sk-container-id-7 div.sk-dashed-wrapped {border: 1px dashed gray;margin: 0 0.4em 0.5em 0.4em;box-sizing: border-box;padding-bottom: 0.4em;background-color: white;}#sk-container-id-7 div.sk-label label {font-family: monospace;font-weight: bold;display: inline-block;line-height: 1.2em;}#sk-container-id-7 div.sk-label-container {text-align: center;}#sk-container-id-7 div.sk-container {/* jupyter's `normalize.less` sets `[hidden] { display: none; }` but bootstrap.min.css set `[hidden] { display: none !important; }` so we also need the `!important` here to be able to override the default hidden behavior on the sphinx rendered scikit-learn.org. See: https://github.com/scikit-learn/scikit-learn/issues/21755 */display: inline-block !important;position: relative;}#sk-container-id-7 div.sk-text-repr-fallback {display: none;}</style><div id=\"sk-container-id-7\" class=\"sk-top-container\"><div class=\"sk-text-repr-fallback\"><pre>RandomForestClassifier(n_estimators=1000, random_state=0)</pre><b>In a Jupyter environment, please rerun this cell to show the HTML representation or trust the notebook. <br />On GitHub, the HTML representation is unable to render, please try loading this page with nbviewer.org.</b></div><div class=\"sk-container\" hidden><div class=\"sk-item\"><div class=\"sk-estimator sk-toggleable\"><input class=\"sk-toggleable__control sk-hidden--visually\" id=\"sk-estimator-id-7\" type=\"checkbox\" checked><label for=\"sk-estimator-id-7\" class=\"sk-toggleable__label sk-toggleable__label-arrow\">RandomForestClassifier</label><div class=\"sk-toggleable__content\"><pre>RandomForestClassifier(n_estimators=1000, random_state=0)</pre></div></div></div></div></div>"
            ],
            "text/plain": [
              "RandomForestClassifier(n_estimators=1000, random_state=0)"
            ]
          },
          "execution_count": 243,
          "metadata": {},
          "output_type": "execute_result"
        }
      ],
      "source": [
        "classifier = RandomForestClassifier(n_estimators=1000, random_state=0)\n",
        "classifier.fit(X_train,y_train)"
      ]
    },
    {
      "cell_type": "code",
      "execution_count": 244,
      "metadata": {
        "colab": {
          "base_uri": "https://localhost:8080/"
        },
        "id": "EN8Hf_abiBC9",
        "outputId": "c50f8bc9-b517-4f67-ad77-1e5256c90e25"
      },
      "outputs": [
        {
          "name": "stdout",
          "output_type": "stream",
          "text": [
            "Accuracy: 0.0\n"
          ]
        }
      ],
      "source": [
        "predictions = classifier.predict(X_test)\n",
        "# Calculate accuracy\n",
        "accuracy = accuracy_score(y_test, predictions)\n",
        "print(\"Accuracy:\", accuracy)\n",
        "dct[\"Random Forest\"]=round(accuracy_score(y_test,predictions)*100,2)"
      ]
    },
    {
      "cell_type": "code",
      "execution_count": 245,
      "metadata": {
        "colab": {
          "base_uri": "https://localhost:8080/"
        },
        "id": "1ccUOeYqpqD7",
        "outputId": "fd17f401-f487-4532-8de7-29b3b73ddb7e"
      },
      "outputs": [
        {
          "name": "stdout",
          "output_type": "stream",
          "text": [
            "dict_keys(['SVM', 'Naive Bayes', 'KNN', 'Random Forest'])\n"
          ]
        }
      ],
      "source": [
        "print(dct.keys())"
      ]
    },
    {
      "cell_type": "code",
      "execution_count": 246,
      "metadata": {
        "colab": {
          "base_uri": "https://localhost:8080/"
        },
        "id": "JKBWv66Kks_B",
        "outputId": "dde65bd8-7f31-454c-e356-469aac4bb9a2"
      },
      "outputs": [
        {
          "name": "stdout",
          "output_type": "stream",
          "text": [
            "Key for max value: SVM\n"
          ]
        }
      ],
      "source": [
        "max_value = max(dct.values())\n",
        "max_key = [key for key, value in dct.items() if value == max_value][0]\n",
        "print(\"Key for max value:\",max_key)"
      ]
    },
    {
      "cell_type": "code",
      "execution_count": 247,
      "metadata": {
        "id": "_xFXiaVUm3Ox"
      },
      "outputs": [],
      "source": [
        "if max_key=='SVM':\n",
        "  joblib.dump(svc, 'resume_matching_model.pkl')\n",
        "if max_key=='Naive Bayes':\n",
        "  joblib.dump(gnb, 'resume_matching_model.pkl')\n",
        "if max_key=='KNN':\n",
        "  joblib.dump(knn, 'resume_matching_model.pkl')\n",
        "if max_key=='Random Forest':\n",
        "  joblib.dump(classifier, 'resume_matching_model.pkl')"
      ]
    },
    {
      "cell_type": "code",
      "execution_count": null,
      "metadata": {
        "id": "HhbX2R9RqXQ9"
      },
      "outputs": [],
      "source": []
    }
  ],
  "metadata": {
    "colab": {
      "collapsed_sections": [
        "-PNd90hod7AE"
      ],
      "provenance": []
    },
    "kernelspec": {
      "display_name": "Python 3",
      "name": "python3"
    },
    "language_info": {
      "codemirror_mode": {
        "name": "ipython",
        "version": 3
      },
      "file_extension": ".py",
      "mimetype": "text/x-python",
      "name": "python",
      "nbconvert_exporter": "python",
      "pygments_lexer": "ipython3",
      "version": "3.11.1"
    }
  },
  "nbformat": 4,
  "nbformat_minor": 0
}
